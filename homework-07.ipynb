{
 "cells": [
  {
   "cell_type": "markdown",
   "metadata": {},
   "source": [
    "## Python Modeling Exercises\n",
    "\n",
    "Before you turn this problem in, make sure everything runs as expected. First, restart the kernel (in the menubar, select Kernel → Restart) and then run all cells (in the menubar, select Cell → Run All).  You can speak with others regarding the assignment but all work must be your own. \n",
    "\n",
    "\n",
    "### This is a 30 point assignment graded from answers to questions and automated tests that should be run at the bottom. Be sure to clearly label all of your answers and commit final tests at the end. If you attempt to fake passing the tests you will receive a 0 on the assignment and it will be considered an ethical violation. (Note, not all questions have tests).\n",
    "\n",
    "### You must show the executed code and then the output . Do not just copy and past the code to a markdown cell. "
   ]
  },
  {
   "cell_type": "code",
   "execution_count": null,
   "metadata": {},
   "outputs": [],
   "source": [
    "NAME = \"Jason Kuruzovich\"\n",
    "COLLABORATORS = \"Alyssa Hacker\"  #You can speak with others regarding the assignment, but all typed work must be your own."
   ]
  },
  {
   "cell_type": "code",
   "execution_count": null,
   "metadata": {},
   "outputs": [],
   "source": [
    "%load_ext ipython_unittest"
   ]
  },
  {
   "cell_type": "code",
   "execution_count": null,
   "metadata": {},
   "outputs": [],
   "source": [
    "#You probably will have loaded this before. \n",
    "#!conda install -c conda-forge ipython_unittest"
   ]
  },
  {
   "cell_type": "markdown",
   "metadata": {},
   "source": [
    "#### Answer (1) here. "
   ]
  },
  {
   "cell_type": "code",
   "execution_count": null,
   "metadata": {},
   "outputs": [],
   "source": [
    "import pandas as pd\n",
    "#Load the train-new.csv and test-new.csv into dataframes train and test\n",
    "train = pd.read_csv('input/train-new.csv')\n",
    "test = pd.read_csv('input/test-new.csv')\n",
    "train.head()\n"
   ]
  },
  {
   "cell_type": "markdown",
   "metadata": {},
   "source": [
    "## Dummy Variables XSIMPLE Example.\n",
    "\n",
    "In the previous python examples we had easy data to work with that consisted of numeric data.  For scikit learn, we have to convert our categorical data to numeric data. Let's do a refresher and create a simple model. "
   ]
  },
  {
   "cell_type": "code",
   "execution_count": null,
   "metadata": {},
   "outputs": [],
   "source": [
    "train_xsimple = pd.get_dummies(train[['Sex']])\n",
    "train_xsimple.head()"
   ]
  },
  {
   "cell_type": "code",
   "execution_count": null,
   "metadata": {},
   "outputs": [],
   "source": [
    "# Combine the continuous variables Age and Pclass with the dummies. \n",
    "X = pd.concat([train[['Age','Pclass']], train_xsimple], axis=1)\n",
    "X.head()"
   ]
  },
  {
   "cell_type": "markdown",
   "metadata": {},
   "source": [
    "### Dummy Variables: Generating X\n",
    "Follow the example above to generate a new value for X utilizing all the continuous and dummy data.  \n",
    "\n",
    "The resulting dataframe X should be all numeric and have these columns (in the correct order): ['Age','Pclass', \n",
    "        'SibSp','family_size','Fare','Sex_female','Sex_male', \n",
    "        'Embarked_C', 'Embarked_Q','Embarked_S','Title_Miss', \n",
    "        'Title_Mr', 'Title_Mrs','Cabin_A','Cabin_B','Cabin_C', \n",
    "        'Cabin_D','Cabin_E','Cabin_F','Cabin_G','Cabin_H']"
   ]
  },
  {
   "cell_type": "markdown",
   "metadata": {},
   "source": [
    "### Test we got X right.\n",
    "This is the same test that is included below. "
   ]
  },
  {
   "cell_type": "code",
   "execution_count": null,
   "metadata": {},
   "outputs": [],
   "source": [
    "%%unittest_main\n",
    "class TestPackages(unittest.TestCase):\n",
    "    def test_packages1(self):\n",
    "        self.assertTrue((X.columns.values.tolist() == ['Age','Pclass', \\\n",
    "        'SibSp','family_size','Fare','Sex_female','Sex_male', \\\n",
    "        'Embarked_C', 'Embarked_Q','Embarked_S','Title_Miss', \\\n",
    "        'Title_Mr', 'Title_Mrs','Cabin_A','Cabin_B','Cabin_C', \\\n",
    "        'Cabin_D','Cabin_E','Cabin_F','Cabin_G','Cabin_H']))"
   ]
  },
  {
   "cell_type": "markdown",
   "metadata": {},
   "source": [
    "## Set the y Value\n",
    "\n",
    "Set the y variable to the dependent variable.  "
   ]
  },
  {
   "cell_type": "code",
   "execution_count": null,
   "metadata": {},
   "outputs": [],
   "source": [
    "#Set the y value to survived. \n",
    "y= \n"
   ]
  },
  {
   "cell_type": "markdown",
   "metadata": {},
   "source": [
    "## Split Training Set For Cross Validation\n",
    "We want to split up our training set so that we can do some cross validation.  \n",
    "\n",
    "In doing below, use the sklearn methods to to a train test split.  \n",
    "\n",
    "From X y dataframe, generate the following dataframes by drawing the data **randomly**  from the train dataframe 80% of the data in train and 20% of the data in test.  So that you get repeatable results, set the `random_state=100`. This will set a \"seed\" so that your random selection will be the same as mine and you will pass the internal tests. \n",
    "\n",
    "train_X, test_X, train_y, test_y\n"
   ]
  },
  {
   "cell_type": "code",
   "execution_count": null,
   "metadata": {},
   "outputs": [],
   "source": []
  },
  {
   "cell_type": "markdown",
   "metadata": {},
   "source": [
    "### Perform Nearest Neighbor Classification (KNeighborsClassifier)\n",
    "Using the default options, perform nearest neighbor classification. \n",
    "\n",
    "Calculate the accuracy measure using `metrics.accuracy_score` for both the training data (assign to `knn_train1_y_acc`) and the testing data (assign to `knn_test1_y_acc`). \n",
    "\n",
    "\n"
   ]
  },
  {
   "cell_type": "code",
   "execution_count": null,
   "metadata": {},
   "outputs": [],
   "source": []
  },
  {
   "cell_type": "markdown",
   "metadata": {},
   "source": [
    "**2. Is the accuracy higher for the training or the test set?  Is this normal?  Does the difference indicate anything?**"
   ]
  },
  {
   "cell_type": "code",
   "execution_count": null,
   "metadata": {},
   "outputs": [],
   "source": [
    "q2_answer=\"\"\"\n",
    "Put your answer here. \n",
    "\"\"\""
   ]
  },
  {
   "cell_type": "markdown",
   "metadata": {},
   "source": [
    "### Confusion Matrix\n",
    "Though we haven't calculated one in example code, we can utilize a confusion matrix to be able to understand misclassifications a bit more.  \n",
    "\n",
    "See the documentation [here](http://scikit-learn.org/stable/modules/generated/sklearn.metrics.confusion_matrix.html). \n",
    "\n",
    "You can utilize the syntax below to generate knn_mat1_train and knn_mat1_test.  \n",
    "```\n",
    "from sklearn.metrics import confusion_matrix\n",
    "confusion_matrix(y_true, y_pred)\n",
    "```\n"
   ]
  },
  {
   "cell_type": "code",
   "execution_count": null,
   "metadata": {},
   "outputs": [],
   "source": []
  },
  {
   "cell_type": "markdown",
   "metadata": {},
   "source": [
    "**3. Explain what each of the four values for the confusion matrix for train means. Are the false-positives or false-negatives more frequent for the train set?**\n",
    "\n"
   ]
  },
  {
   "cell_type": "code",
   "execution_count": null,
   "metadata": {},
   "outputs": [],
   "source": [
    "q3_answer=\"\"\"\n",
    "Put your answer here. \n",
    "\"\"\""
   ]
  },
  {
   "cell_type": "code",
   "execution_count": null,
   "metadata": {},
   "outputs": [],
   "source": [
    "from sklearn.metrics import confusion_matrix\n",
    "knn_mat1_train=confusion_matrix(train_y, knn_train1_y)\n",
    "knn_mat1_test=confusion_matrix(test_y, knn_test1_y)\n",
    "knn_mat1_train\n",
    "knn_mat1_test"
   ]
  },
  {
   "cell_type": "markdown",
   "metadata": {},
   "source": [
    "### Other Models\n",
    "\n",
    "Test 2 other algorithms/models (your choice but make sure you pick a classifier!).  Provide a summary of the best performance below. \n",
    "\n",
    "Use any of the available classification models. You should show and comment code\n",
    "\n",
    "[Scikit Learn Documentation](http://scikit-learn.org/stable/supervised_learning.html#supervised-learning).\n",
    "  "
   ]
  },
  {
   "cell_type": "code",
   "execution_count": null,
   "metadata": {},
   "outputs": [],
   "source": []
  },
  {
   "cell_type": "markdown",
   "metadata": {},
   "source": [
    "\n",
    "** 4. Which model performed the best of the 3?  List the accuracy for each.** "
   ]
  },
  {
   "cell_type": "code",
   "execution_count": null,
   "metadata": {},
   "outputs": [],
   "source": [
    "q4_answer=\"\"\"\n",
    "Put your answer here. \n",
    "\"\"\""
   ]
  },
  {
   "cell_type": "markdown",
   "metadata": {},
   "source": [
    "## Hyperparameters\n",
    "\n",
    "** For the best performing model, look at the scikit learn documentation and identify 2 alternate model configurations.  For example, if the best performing model is a nearest neighbor, your could change the value for K. If the model is an SVM, you could try to change the value for the Kernal. **"
   ]
  },
  {
   "cell_type": "code",
   "execution_count": null,
   "metadata": {},
   "outputs": [],
   "source": []
  },
  {
   "cell_type": "markdown",
   "metadata": {},
   "source": [
    "**5. What did you change and what was the impact on the prediction.\""
   ]
  },
  {
   "cell_type": "code",
   "execution_count": null,
   "metadata": {},
   "outputs": [],
   "source": [
    "q5_answer=\"\"\"\n",
    "Put your answer here. \n",
    "\"\"\""
   ]
  },
  {
   "cell_type": "markdown",
   "metadata": {},
   "source": [
    "**For the best performing model, try simplifying the input variables to age, gender, and class. **"
   ]
  },
  {
   "cell_type": "code",
   "execution_count": null,
   "metadata": {},
   "outputs": [],
   "source": []
  },
  {
   "cell_type": "markdown",
   "metadata": {},
   "source": [
    "**6.  What is the resulting impact on performance of the model when reducing the input variables?**"
   ]
  },
  {
   "cell_type": "code",
   "execution_count": null,
   "metadata": {},
   "outputs": [],
   "source": [
    "q6_answer=\"\"\"\n",
    "Put your answer here. \n",
    "\"\"\""
   ]
  },
  {
   "cell_type": "markdown",
   "metadata": {},
   "source": [
    "### Grading\n",
    "These will be used for grading. \n",
    "\n",
    "15 - Automated test.\n",
    "15 - Answers to questions.  \n"
   ]
  },
  {
   "cell_type": "code",
   "execution_count": null,
   "metadata": {},
   "outputs": [],
   "source": [
    "%%unittest_main\n",
    "class TestHm6(unittest.TestCase):\n",
    "    def test1_columns(self):\n",
    "        self.assertTrue((X.columns.values.tolist() == ['Age','Pclass', \\\n",
    "        'SibSp','family_size','Fare','Sex_female','Sex_male', \\\n",
    "        'Embarked_C', 'Embarked_Q','Embarked_S','Title_Miss', \\\n",
    "        'Title_Mr', 'Title_Mrs','Cabin_A','Cabin_B','Cabin_C', \\\n",
    "        'Cabin_D','Cabin_E','Cabin_F','Cabin_G','Cabin_H']))   \n",
    "    def test2_datasplit(self):\n",
    "        self.assertAlmostEqual(train_X.iloc[4,0], 32.102631578947395) \n",
    "    def test3_knn_train1_y(self):\n",
    "        self.assertAlmostEqual(knn_train1_y_acc, 0.820224719101)\n",
    "    def test4_knn_test1_y(self):\n",
    "        self.assertAlmostEqual(knn_test1_y_acc, 0.687150837989)\n",
    "    def test5_confusion(self):\n",
    "        self.assertTrue(knn_mat1_train[1,1]==191)       \n",
    " "
   ]
  },
  {
   "cell_type": "code",
   "execution_count": null,
   "metadata": {},
   "outputs": [],
   "source": [
    "#Output your answers\n",
    "answers= [NAME,COLLABORATORS, q3_answer, q4_answer, q5_answer, q6_answer]\n",
    "with open('answers.txt', 'w') as outfile:   #The \"with\" incorporates an open and close of file. \n",
    "    outfile.write(\"\\n\".join(answers))"
   ]
  }
 ],
 "metadata": {
  "kernelspec": {
   "display_name": "Python 3",
   "language": "python",
   "name": "python3"
  },
  "language_info": {
   "codemirror_mode": {
    "name": "ipython",
    "version": 3
   },
   "file_extension": ".py",
   "mimetype": "text/x-python",
   "name": "python",
   "nbconvert_exporter": "python",
   "pygments_lexer": "ipython3",
   "version": "3.6.5"
  }
 },
 "nbformat": 4,
 "nbformat_minor": 2
}
